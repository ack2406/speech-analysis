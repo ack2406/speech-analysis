{
 "cells": [
  {
   "cell_type": "markdown",
   "metadata": {},
   "source": [
    "# 1. Import Necessary Libraries"
   ]
  },
  {
   "cell_type": "code",
   "execution_count": 15,
   "metadata": {},
   "outputs": [],
   "source": [
    "from pathlib import Path\n",
    "import pandas as pd\n",
    "import seaborn as sns\n",
    "import logging\n",
    "import matplotlib.pyplot as plt\n",
    "from scipy.stats import f_oneway\n",
    "\n",
    "RELATIVE_FEATURES_DIR = \"../data/features\"\n",
    "REMOVE_KIDS = True \n",
    "SEPARATE_KIDS_PLOTS = False\n",
    "LANGUAGES = [\n",
    "    'es',\n",
    "    'hi',\n",
    "    'ar',\n",
    "    'ja'\n",
    "]"
   ]
  },
  {
   "cell_type": "code",
   "execution_count": 17,
   "metadata": {},
   "outputs": [
    {
     "name": "stdout",
     "output_type": "stream",
     "text": [
      "F-statistic: 7753.598106003851, P-value: 0.0\n"
     ]
    }
   ],
   "source": [
    "# Collect pitch_mean values for each language\n",
    "pitch_means = []\n",
    "\n",
    "for language in LANGUAGES:\n",
    "    # Check if the file exists\n",
    "    file_path = Path(f'{RELATIVE_FEATURES_DIR}/{language}_features.csv')\n",
    "\n",
    "    if not file_path.exists():\n",
    "        print(f\"File {language}_features.csv does not exist. Please run the feature extraction script first.\")\n",
    "        continue\n",
    "\n",
    "    # Load the CSV file into a DataFrame\n",
    "    df_features = pd.read_csv(file_path)\n",
    "\n",
    "    # Ensure the pitch_mean column exists in the dataframe\n",
    "    if 'pitch_mean' in df_features.columns:\n",
    "        pitch_means.append(df_features['pitch_mean'])\n",
    "    else:\n",
    "        print(f\"pitch_mean column not found in {language}_features.csv\")\n",
    "        continue\n",
    "\n",
    "# Perform one-way ANOVA if there are four languages' data collected\n",
    "if len(pitch_means) == len(LANGUAGES):\n",
    "    f_statistic, p_value = f_oneway(*pitch_means)\n",
    "    print(f\"F-statistic: {f_statistic}, P-value: {p_value}\")\n",
    "else:\n",
    "    print(\"ANOVA cannot be performed, ensure all languages have valid data.\")\n"
   ]
  }
 ],
 "metadata": {
  "kernelspec": {
   "display_name": "base",
   "language": "python",
   "name": "python3"
  },
  "language_info": {
   "codemirror_mode": {
    "name": "ipython",
    "version": 3
   },
   "file_extension": ".py",
   "mimetype": "text/x-python",
   "name": "python",
   "nbconvert_exporter": "python",
   "pygments_lexer": "ipython3",
   "version": "3.11.8"
  }
 },
 "nbformat": 4,
 "nbformat_minor": 2
}
